{
  "nbformat": 4,
  "nbformat_minor": 0,
  "metadata": {
    "colab": {
      "provenance": [],
      "authorship_tag": "ABX9TyNuI34Bu2Vnd2KGavbXaGvh",
      "include_colab_link": true
    },
    "kernelspec": {
      "name": "python3",
      "display_name": "Python 3"
    },
    "language_info": {
      "name": "python"
    }
  },
  "cells": [
    {
      "cell_type": "markdown",
      "metadata": {
        "id": "view-in-github",
        "colab_type": "text"
      },
      "source": [
        "<a href=\"https://colab.research.google.com/github/ramanakurva164/genai-as-2/blob/main/ASN2_Q1.ipynb\" target=\"_parent\"><img src=\"https://colab.research.google.com/assets/colab-badge.svg\" alt=\"Open In Colab\"/></a>"
      ]
    },
    {
      "cell_type": "code",
      "execution_count": null,
      "metadata": {
        "colab": {
          "base_uri": "https://localhost:8080/"
        },
        "id": "ZCcN95YmHb-u",
        "outputId": "07107517-6928-4a7b-a9f3-6aa334604f94"
      },
      "outputs": [
        {
          "output_type": "stream",
          "name": "stdout",
          "text": [
            "Requirement already satisfied: transformers in /usr/local/lib/python3.11/dist-packages (4.53.2)\n",
            "Requirement already satisfied: filelock in /usr/local/lib/python3.11/dist-packages (from transformers) (3.18.0)\n",
            "Requirement already satisfied: huggingface-hub<1.0,>=0.30.0 in /usr/local/lib/python3.11/dist-packages (from transformers) (0.33.4)\n",
            "Requirement already satisfied: numpy>=1.17 in /usr/local/lib/python3.11/dist-packages (from transformers) (2.0.2)\n",
            "Requirement already satisfied: packaging>=20.0 in /usr/local/lib/python3.11/dist-packages (from transformers) (24.2)\n",
            "Requirement already satisfied: pyyaml>=5.1 in /usr/local/lib/python3.11/dist-packages (from transformers) (6.0.2)\n",
            "Requirement already satisfied: regex!=2019.12.17 in /usr/local/lib/python3.11/dist-packages (from transformers) (2024.11.6)\n",
            "Requirement already satisfied: requests in /usr/local/lib/python3.11/dist-packages (from transformers) (2.32.3)\n",
            "Requirement already satisfied: tokenizers<0.22,>=0.21 in /usr/local/lib/python3.11/dist-packages (from transformers) (0.21.2)\n",
            "Requirement already satisfied: safetensors>=0.4.3 in /usr/local/lib/python3.11/dist-packages (from transformers) (0.5.3)\n",
            "Requirement already satisfied: tqdm>=4.27 in /usr/local/lib/python3.11/dist-packages (from transformers) (4.67.1)\n",
            "Requirement already satisfied: fsspec>=2023.5.0 in /usr/local/lib/python3.11/dist-packages (from huggingface-hub<1.0,>=0.30.0->transformers) (2025.3.2)\n",
            "Requirement already satisfied: typing-extensions>=3.7.4.3 in /usr/local/lib/python3.11/dist-packages (from huggingface-hub<1.0,>=0.30.0->transformers) (4.14.1)\n",
            "Requirement already satisfied: hf-xet<2.0.0,>=1.1.2 in /usr/local/lib/python3.11/dist-packages (from huggingface-hub<1.0,>=0.30.0->transformers) (1.1.5)\n",
            "Requirement already satisfied: charset-normalizer<4,>=2 in /usr/local/lib/python3.11/dist-packages (from requests->transformers) (3.4.2)\n",
            "Requirement already satisfied: idna<4,>=2.5 in /usr/local/lib/python3.11/dist-packages (from requests->transformers) (3.10)\n",
            "Requirement already satisfied: urllib3<3,>=1.21.1 in /usr/local/lib/python3.11/dist-packages (from requests->transformers) (2.4.0)\n",
            "Requirement already satisfied: certifi>=2017.4.17 in /usr/local/lib/python3.11/dist-packages (from requests->transformers) (2025.7.14)\n"
          ]
        }
      ],
      "source": [
        "# Install the transformers library\n",
        "!pip install transformers"
      ]
    },
    {
      "cell_type": "code",
      "source": [
        "# Install the huggingface_hub library\n",
        "!pip install huggingface_hub"
      ],
      "metadata": {
        "colab": {
          "base_uri": "https://localhost:8080/"
        },
        "id": "HQAxONpmHpfr",
        "outputId": "257862f1-ee75-4de9-ea22-bcebbf8b3d98"
      },
      "execution_count": null,
      "outputs": [
        {
          "output_type": "stream",
          "name": "stdout",
          "text": [
            "Requirement already satisfied: huggingface_hub in /usr/local/lib/python3.11/dist-packages (0.33.4)\n",
            "Requirement already satisfied: filelock in /usr/local/lib/python3.11/dist-packages (from huggingface_hub) (3.18.0)\n",
            "Requirement already satisfied: fsspec>=2023.5.0 in /usr/local/lib/python3.11/dist-packages (from huggingface_hub) (2025.3.2)\n",
            "Requirement already satisfied: packaging>=20.9 in /usr/local/lib/python3.11/dist-packages (from huggingface_hub) (24.2)\n",
            "Requirement already satisfied: pyyaml>=5.1 in /usr/local/lib/python3.11/dist-packages (from huggingface_hub) (6.0.2)\n",
            "Requirement already satisfied: requests in /usr/local/lib/python3.11/dist-packages (from huggingface_hub) (2.32.3)\n",
            "Requirement already satisfied: tqdm>=4.42.1 in /usr/local/lib/python3.11/dist-packages (from huggingface_hub) (4.67.1)\n",
            "Requirement already satisfied: typing-extensions>=3.7.4.3 in /usr/local/lib/python3.11/dist-packages (from huggingface_hub) (4.14.1)\n",
            "Requirement already satisfied: hf-xet<2.0.0,>=1.1.2 in /usr/local/lib/python3.11/dist-packages (from huggingface_hub) (1.1.5)\n",
            "Requirement already satisfied: charset-normalizer<4,>=2 in /usr/local/lib/python3.11/dist-packages (from requests->huggingface_hub) (3.4.2)\n",
            "Requirement already satisfied: idna<4,>=2.5 in /usr/local/lib/python3.11/dist-packages (from requests->huggingface_hub) (3.10)\n",
            "Requirement already satisfied: urllib3<3,>=1.21.1 in /usr/local/lib/python3.11/dist-packages (from requests->huggingface_hub) (2.4.0)\n",
            "Requirement already satisfied: certifi>=2017.4.17 in /usr/local/lib/python3.11/dist-packages (from requests->huggingface_hub) (2025.7.14)\n"
          ]
        }
      ]
    },
    {
      "cell_type": "code",
      "source": [
        "# Import necessary libraries: InferenceClient for interacting with Hugging Face models,\n",
        "# getpass for securely getting input, and textwrap for formatting output text.\n",
        "from huggingface_hub import InferenceClient\n",
        "from getpass import getpass\n",
        "import textwrap"
      ],
      "metadata": {
        "id": "5H6l8HloHyGw"
      },
      "execution_count": null,
      "outputs": []
    },
    {
      "cell_type": "code",
      "source": [],
      "metadata": {
        "id": "cidcNKSaIMPZ"
      },
      "execution_count": null,
      "outputs": []
    },
    {
      "cell_type": "code",
      "source": [
        "# Get the Hugging Face API token securely using getpass.\n",
        "# This prevents the token from being displayed in the notebook output.\n",
        "from google.colab import userdata\n",
        "\n",
        "try:\n",
        "    HF_TOKEN = userdata.get(\"HF_TOKEN\")\n",
        "except Exception as e:\n",
        "    print(\"Failed to get HF_TOKEN from Colab secrets:\", e)\n",
        "    HF_TOKEN = None\n",
        "\n",
        "\n",
        "if HF_TOKEN is None:\n",
        "    HF_TOKEN = getpass(\"token: \")"
      ],
      "metadata": {
        "colab": {
          "base_uri": "https://localhost:8080/"
        },
        "id": "dk1KJ6oOH39w",
        "outputId": "18a62a88-f8cb-458c-9e50-56115d009b40"
      },
      "execution_count": null,
      "outputs": [
        {
          "name": "stdout",
          "output_type": "stream",
          "text": [
            "Failed to get HF_TOKEN from Colab secrets: Secret HF_TOKEN does not exist.\n",
            "token: ··········\n"
          ]
        }
      ]
    },
    {
      "cell_type": "code",
      "source": [
        "# Initialize the InferenceClient with the specified model (\"HuggingFaceH4/zephyr-7b-alpha\")\n",
        "# and provide the Hugging Face token for authentication.\n",
        "client=InferenceClient(\"HuggingFaceH4/zephyr-7b-alpha\",token=HF_TOKEN)"
      ],
      "metadata": {
        "id": "Gqea89NAIjRd"
      },
      "execution_count": null,
      "outputs": []
    },
    {
      "cell_type": "code",
      "source": [
        "# Prompt the user to enter a question and store it in the user_question variable.\n",
        "user_question =input(\"Enter your question: \")\n",
        "# Create a list of messages to send to the model.\n",
        "# This includes a system message defining the assistant's role and the user's question.\n",
        "messages=[{\"role\": \"system\",\"content\":\"You are a helpful and knowledgeable assistant\"},{\n",
        "    \"role\": \"user\",\"content\":user_question\n",
        "}]"
      ],
      "metadata": {
        "colab": {
          "base_uri": "https://localhost:8080/"
        },
        "id": "lZJbSUKRIxfJ",
        "outputId": "d0701a0e-e643-45a9-f760-5b8a5a5150e4"
      },
      "execution_count": null,
      "outputs": [
        {
          "name": "stdout",
          "output_type": "stream",
          "text": [
            "Enter your question: what is vibe coding\n"
          ]
        }
      ]
    },
    {
      "cell_type": "code",
      "source": [
        "# Send the messages to the Hugging Face model using the chat_completion method\n",
        "# and store the response in the 'response' variable.\n",
        "# max_tokens limits the length of the generated response.\n",
        "response=client.chat_completion(messages=messages,max_tokens=200)"
      ],
      "metadata": {
        "id": "oFTWkDTjIzty"
      },
      "execution_count": null,
      "outputs": []
    },
    {
      "cell_type": "code",
      "source": [
        "# Print a newline and the word \"answer\" to the output.\n",
        "print(\"\\nanswer\")\n",
        "# Format and print the model's response.\n",
        "# textwrap.fill wraps the text to a specified width (80 characters).\n",
        "# response.choices[0].message.content.strip() accesses the content of the response\n",
        "# and removes leading/trailing whitespace.\n",
        "print(textwrap.fill(response.choices[0].message.content.strip(),width=80))"
      ],
      "metadata": {
        "colab": {
          "base_uri": "https://localhost:8080/"
        },
        "id": "NwBJywF5I2kD",
        "outputId": "352b8b6d-83ef-4b81-d51b-ca7cea012f0b"
      },
      "execution_count": null,
      "outputs": [
        {
          "output_type": "stream",
          "name": "stdout",
          "text": [
            "\n",
            "answer\n",
            "Vibe Coding is a YouTube channel owned and created by Harsh Shah and Rahil\n",
            "Hussain, two highly talented self-taught programming enthusiasts from India.\n",
            "They offer courses and tutorials on various programming languages and\n",
            "technologies, including Python, Django, Flask, MongoDB, React, Express, Docker,\n",
            "Node.js, and other popular tools and technologies for web development. Their\n",
            "videos aim to make learning easy, practical, and engaging by offering a\n",
            "combination of visuals and spoken commentary to enhance the learning experience\n",
            "and help students gain practical knowledge while also providing great fun and\n",
            "excitement to keep them interested in the process. The channel aims to bridge\n",
            "the gap between traditional academic learning and real-time usage by providing\n",
            "real-world project-based tutorials. The aim is to convey not only how but why.\n",
            "They offer both free and paid courses in a structured curriculum format and a\n",
            "constantly growing community for support in their discord channel. The videos\n",
            "cater to learners\n"
          ]
        }
      ]
    }
  ]
}